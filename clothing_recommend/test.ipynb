{
 "cells": [
  {
   "cell_type": "code",
   "execution_count": 1,
   "id": "e37b1c9b",
   "metadata": {},
   "outputs": [],
   "source": [
    "from codes.utills import preprocess, word_tokenizer\n",
    "from codes.model import clothing_transformer"
   ]
  },
  {
   "cell_type": "code",
   "execution_count": 2,
   "id": "e508d0da",
   "metadata": {},
   "outputs": [],
   "source": [
    "sequence, target = preprocess()"
   ]
  },
  {
   "cell_type": "code",
   "execution_count": 3,
   "id": "7c0a2cea",
   "metadata": {},
   "outputs": [],
   "source": [
    "X = word_tokenizer(sequence)"
   ]
  },
  {
   "cell_type": "code",
   "execution_count": 4,
   "id": "bbd5d1f5",
   "metadata": {},
   "outputs": [
    {
     "data": {
      "text/plain": [
       "(22634, 22634)"
      ]
     },
     "execution_count": 4,
     "metadata": {},
     "output_type": "execute_result"
    }
   ],
   "source": [
    "len(X), len(target)"
   ]
  },
  {
   "cell_type": "code",
   "execution_count": 5,
   "id": "d2370804",
   "metadata": {},
   "outputs": [],
   "source": [
    "from sklearn.model_selection import train_test_split\n",
    "\n",
    "X_train, X_test, y_train, y_test = train_test_split(X, target, test_size=0.1)"
   ]
  },
  {
   "cell_type": "code",
   "execution_count": 6,
   "id": "afc8b458",
   "metadata": {},
   "outputs": [],
   "source": [
    "max_len = 50\n",
    "vocab_size = 5000\n",
    "model = clothing_transformer(max_len, vocab_size)"
   ]
  },
  {
   "cell_type": "code",
   "execution_count": 7,
   "id": "dc2c9000",
   "metadata": {
    "scrolled": true
   },
   "outputs": [
    {
     "name": "stdout",
     "output_type": "stream",
     "text": [
      "WARNING:tensorflow:AutoGraph could not transform <bound method TokenAndPositionEmbedding.call of <codes.transformer_block.TokenAndPositionEmbedding object at 0x000001C3DC09E248>> and will run it as-is.\n",
      "Please report this to the TensorFlow team. When filing the bug, set the verbosity to 10 (on Linux, `export AUTOGRAPH_VERBOSITY=10`) and attach the full output.\n",
      "Cause: module 'gast' has no attribute 'Constant'\n",
      "To silence this warning, decorate the function with @tf.autograph.experimental.do_not_convert\n",
      "WARNING: AutoGraph could not transform <bound method TokenAndPositionEmbedding.call of <codes.transformer_block.TokenAndPositionEmbedding object at 0x000001C3DC09E248>> and will run it as-is.\n",
      "Please report this to the TensorFlow team. When filing the bug, set the verbosity to 10 (on Linux, `export AUTOGRAPH_VERBOSITY=10`) and attach the full output.\n",
      "Cause: module 'gast' has no attribute 'Constant'\n",
      "To silence this warning, decorate the function with @tf.autograph.experimental.do_not_convert\n",
      "WARNING:tensorflow:AutoGraph could not transform <bound method TransformerBlock.call of <codes.transformer_block.TransformerBlock object at 0x000001C3DBF68D88>> and will run it as-is.\n",
      "Please report this to the TensorFlow team. When filing the bug, set the verbosity to 10 (on Linux, `export AUTOGRAPH_VERBOSITY=10`) and attach the full output.\n",
      "Cause: 'arguments' object has no attribute 'posonlyargs'\n",
      "To silence this warning, decorate the function with @tf.autograph.experimental.do_not_convert\n",
      "WARNING: AutoGraph could not transform <bound method TransformerBlock.call of <codes.transformer_block.TransformerBlock object at 0x000001C3DBF68D88>> and will run it as-is.\n",
      "Please report this to the TensorFlow team. When filing the bug, set the verbosity to 10 (on Linux, `export AUTOGRAPH_VERBOSITY=10`) and attach the full output.\n",
      "Cause: 'arguments' object has no attribute 'posonlyargs'\n",
      "To silence this warning, decorate the function with @tf.autograph.experimental.do_not_convert\n",
      "WARNING:tensorflow:AutoGraph could not transform <bound method MultiHeadAttention.call of <codes.transformer_block.MultiHeadAttention object at 0x000001C3DBF803C8>> and will run it as-is.\n",
      "Please report this to the TensorFlow team. When filing the bug, set the verbosity to 10 (on Linux, `export AUTOGRAPH_VERBOSITY=10`) and attach the full output.\n",
      "Cause: module 'gast' has no attribute 'Constant'\n",
      "To silence this warning, decorate the function with @tf.autograph.experimental.do_not_convert\n",
      "WARNING: AutoGraph could not transform <bound method MultiHeadAttention.call of <codes.transformer_block.MultiHeadAttention object at 0x000001C3DBF803C8>> and will run it as-is.\n",
      "Please report this to the TensorFlow team. When filing the bug, set the verbosity to 10 (on Linux, `export AUTOGRAPH_VERBOSITY=10`) and attach the full output.\n",
      "Cause: module 'gast' has no attribute 'Constant'\n",
      "To silence this warning, decorate the function with @tf.autograph.experimental.do_not_convert\n",
      "Epoch 1/10\n",
      "WARNING:tensorflow:AutoGraph could not transform <function Model.make_train_function.<locals>.train_function at 0x000001C3DBF1CCA8> and will run it as-is.\n",
      "Please report this to the TensorFlow team. When filing the bug, set the verbosity to 10 (on Linux, `export AUTOGRAPH_VERBOSITY=10`) and attach the full output.\n",
      "Cause: 'arguments' object has no attribute 'posonlyargs'\n",
      "To silence this warning, decorate the function with @tf.autograph.experimental.do_not_convert\n",
      "WARNING: AutoGraph could not transform <function Model.make_train_function.<locals>.train_function at 0x000001C3DBF1CCA8> and will run it as-is.\n",
      "Please report this to the TensorFlow team. When filing the bug, set the verbosity to 10 (on Linux, `export AUTOGRAPH_VERBOSITY=10`) and attach the full output.\n",
      "Cause: 'arguments' object has no attribute 'posonlyargs'\n",
      "To silence this warning, decorate the function with @tf.autograph.experimental.do_not_convert\n",
      "635/637 [============================>.] - ETA: 0s - loss: 0.3082 - accuracy: 0.8692WARNING:tensorflow:AutoGraph could not transform <function Model.make_test_function.<locals>.test_function at 0x000001C3DFC308B8> and will run it as-is.\n",
      "Please report this to the TensorFlow team. When filing the bug, set the verbosity to 10 (on Linux, `export AUTOGRAPH_VERBOSITY=10`) and attach the full output.\n",
      "Cause: 'arguments' object has no attribute 'posonlyargs'\n",
      "To silence this warning, decorate the function with @tf.autograph.experimental.do_not_convert\n",
      "WARNING: AutoGraph could not transform <function Model.make_test_function.<locals>.test_function at 0x000001C3DFC308B8> and will run it as-is.\n",
      "Please report this to the TensorFlow team. When filing the bug, set the verbosity to 10 (on Linux, `export AUTOGRAPH_VERBOSITY=10`) and attach the full output.\n",
      "Cause: 'arguments' object has no attribute 'posonlyargs'\n",
      "To silence this warning, decorate the function with @tf.autograph.experimental.do_not_convert\n",
      "\n",
      "Epoch 1: val_loss improved from inf to 0.24623, saving model to weight\\transfomer-epoch-10-batch-32.h5\n",
      "637/637 [==============================] - 4s 5ms/step - loss: 0.3082 - accuracy: 0.8692 - val_loss: 0.2462 - val_accuracy: 0.8922\n",
      "Epoch 2/10\n",
      "630/637 [============================>.] - ETA: 0s - loss: 0.2245 - accuracy: 0.9082\n",
      "Epoch 2: val_loss did not improve from 0.24623\n",
      "637/637 [==============================] - 3s 5ms/step - loss: 0.2243 - accuracy: 0.9080 - val_loss: 0.2532 - val_accuracy: 0.8900\n",
      "Epoch 3/10\n",
      "633/637 [============================>.] - ETA: 0s - loss: 0.1976 - accuracy: 0.9186\n",
      "Epoch 3: val_loss did not improve from 0.24623\n",
      "637/637 [==============================] - 3s 5ms/step - loss: 0.1974 - accuracy: 0.9187 - val_loss: 0.2677 - val_accuracy: 0.8900\n",
      "Epoch 4/10\n",
      "634/637 [============================>.] - ETA: 0s - loss: 0.1748 - accuracy: 0.9276\n",
      "Epoch 4: val_loss did not improve from 0.24623\n",
      "637/637 [==============================] - 3s 5ms/step - loss: 0.1749 - accuracy: 0.9276 - val_loss: 0.2593 - val_accuracy: 0.8989\n"
     ]
    }
   ],
   "source": [
    "embedding_dim = 32  # 각 단어의 임베딩 벡터의 차원\n",
    "num_heads = 2  # 어텐션 헤드의 수\n",
    "dff = 32  # 포지션 와이즈 피드 포워드 신경망의 은닉층의 크기\n",
    "epoch=10\n",
    "batch_size=32\n",
    "history = model.trainer(X_train, y_train, X_test, y_test, embedding_dim, num_heads, dff, epoch, batch_size)"
   ]
  },
  {
   "cell_type": "code",
   "execution_count": 10,
   "id": "d9ed9a48",
   "metadata": {},
   "outputs": [],
   "source": [
    "def plot_learning_curves(loss, val_loss):\n",
    "    \"\"\"train_loss and val_loss curve \"\"\"\n",
    "    plt.plot(np.arange(len(loss)) + 0.5, loss, \"b.-\", label=\"Training loss\")\n",
    "    plt.plot(np.arange(len(val_loss)) + 1, val_loss, \"r.-\", label=\"Validation loss\")\n",
    "    plt.gca().xaxis.set_major_locator(mpl.ticker.MaxNLocator(integer=True))\n",
    "    plt.legend(fontsize=14)\n",
    "    plt.xlabel(\"Epochs\")\n",
    "    plt.ylabel(\"Loss\")\n",
    "    plt.grid(True)\n",
    "    \n",
    "def plot_acc_curves(acc, val_acc):\n",
    "    \"\"\"train_loss and val_loss curve \"\"\"\n",
    "    plt.plot(np.arange(len(acc)) + 0.5, acc, \"b.-\", label=\"Training acc\")\n",
    "    plt.plot(np.arange(len(val_acc)) + 1, val_acc, \"r.-\", label=\"Validation acc\")\n",
    "    plt.gca().xaxis.set_major_locator(mpl.ticker.MaxNLocator(integer=True))\n",
    "    plt.legend(fontsize=14)\n",
    "    plt.xlabel(\"Epochs\")\n",
    "    plt.ylabel(\"Acc\")\n",
    "    plt.grid(True)"
   ]
  },
  {
   "cell_type": "code",
   "execution_count": 15,
   "id": "f8a2830d",
   "metadata": {},
   "outputs": [
    {
     "data": {
      "image/png": "[encoded data removed]",
      "text/plain": [
       "<Figure size 432x288 with 1 Axes>"
      ]
     },
     "metadata": {
      "needs_background": "light"
     },
     "output_type": "display_data"
    }
   ],
   "source": [
    "import matplotlib.pyplot as plt\n",
    "import numpy as np\n",
    "import matplotlib as mpl\n",
    "\n",
    "plot_learning_curves(history.history['loss'], history.history['val_loss'])"
   ]
  }
 ],
 "metadata": {
  "kernelspec": {
   "display_name": "tf",
   "language": "python",
   "name": "tf"
  },
  "language_info": {
   "codemirror_mode": {
    "name": "ipython",
    "version": 3
   },
   "file_extension": ".py",
   "mimetype": "text/x-python",
   "name": "python",
   "nbconvert_exporter": "python",
   "pygments_lexer": "ipython3",
   "version": "3.7.11"
  }
 },
 "nbformat": 4,
 "nbformat_minor": 5
}
